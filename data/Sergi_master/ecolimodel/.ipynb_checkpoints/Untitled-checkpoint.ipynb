{
 "cells": [
  {
   "cell_type": "code",
   "execution_count": 82,
   "id": "f921ae65-0c0c-4a15-833c-5656d29d972e",
   "metadata": {},
   "outputs": [],
   "source": [
    "import pandas as pd\n",
    "import numpy as np\n",
    "import dotenv\n",
    "import ast\n",
    "import pandera as pa\n",
    "import incawrapper\n",
    "import xmltodict\n",
    "from incawrapper import utils\n",
    "from incawrapper import visualization"
   ]
  },
  {
   "cell_type": "code",
   "execution_count": 165,
   "id": "cdf29773-dfc7-427b-95ef-bb4b55c212c2",
   "metadata": {},
   "outputs": [],
   "source": [
    "# import environment variables\n",
    "INCA_base_directory = \"/Users/nicow/OneDrive - Danmarks Tekniske Universitet/CHO_Experiments/13C-Map\""
   ]
  },
  {
   "cell_type": "code",
   "execution_count": 95,
   "id": "42768d09-e3b0-4c31-ac2a-ca2ea8e24ae8",
   "metadata": {},
   "outputs": [],
   "source": [
    "with open(\"example_input/ecoli.xml\") as f:\n",
    "    xml_input = xmltodict.parse(f.read())\n",
    "reactions = xml_input[\"fluxml\"][\"reactionnetwork\"][\"reaction\"]"
   ]
  },
  {
   "cell_type": "code",
   "execution_count": 166,
   "id": "926351b5-c536-4aab-9688-fa6355a69f4b",
   "metadata": {},
   "outputs": [
    {
     "data": {
      "text/html": [
       "<div>\n",
       "<style scoped>\n",
       "    .dataframe tbody tr th:only-of-type {\n",
       "        vertical-align: middle;\n",
       "    }\n",
       "\n",
       "    .dataframe tbody tr th {\n",
       "        vertical-align: top;\n",
       "    }\n",
       "\n",
       "    .dataframe thead th {\n",
       "        text-align: right;\n",
       "    }\n",
       "</style>\n",
       "<table border=\"1\" class=\"dataframe\">\n",
       "  <thead>\n",
       "    <tr style=\"text-align: right;\">\n",
       "      <th></th>\n",
       "      <th>Reaction ID</th>\n",
       "      <th>Equations (Carbon atom transition)</th>\n",
       "    </tr>\n",
       "  </thead>\n",
       "  <tbody>\n",
       "    <tr>\n",
       "      <th>0</th>\n",
       "      <td>v1</td>\n",
       "      <td>Gluc.ext (abcdef) + PEP (ghi) -&gt; G6P (abcdef) ...</td>\n",
       "    </tr>\n",
       "    <tr>\n",
       "      <th>1</th>\n",
       "      <td>v2</td>\n",
       "      <td>G6P (abcdef) &lt;-&gt; F6P (abcdef)</td>\n",
       "    </tr>\n",
       "    <tr>\n",
       "      <th>2</th>\n",
       "      <td>v3</td>\n",
       "      <td>F6P (abcdef) + ATP -&gt; FBP (abcdef)</td>\n",
       "    </tr>\n",
       "    <tr>\n",
       "      <th>3</th>\n",
       "      <td>v4</td>\n",
       "      <td>FBP (abcdef) &lt;-&gt; DHAP (cba) + GAP (def)</td>\n",
       "    </tr>\n",
       "    <tr>\n",
       "      <th>4</th>\n",
       "      <td>v5</td>\n",
       "      <td>DHAP (abc) &lt;-&gt; GAP (abc)</td>\n",
       "    </tr>\n",
       "    <tr>\n",
       "      <th>...</th>\n",
       "      <td>...</td>\n",
       "      <td>...</td>\n",
       "    </tr>\n",
       "    <tr>\n",
       "      <th>66</th>\n",
       "      <td>v67</td>\n",
       "      <td>O2.ext -&gt; O2</td>\n",
       "    </tr>\n",
       "    <tr>\n",
       "      <th>67</th>\n",
       "      <td>v68</td>\n",
       "      <td>NH3.ext -&gt; NH3</td>\n",
       "    </tr>\n",
       "    <tr>\n",
       "      <th>68</th>\n",
       "      <td>v69</td>\n",
       "      <td>SO4.ext -&gt; SO4</td>\n",
       "    </tr>\n",
       "    <tr>\n",
       "      <th>69</th>\n",
       "      <td>v70</td>\n",
       "      <td>0.488*Ala + 0.281*Arg + 0.229*Asn + 0.229*Asp ...</td>\n",
       "    </tr>\n",
       "    <tr>\n",
       "      <th>70</th>\n",
       "      <td>v71</td>\n",
       "      <td>CO2.unlabeled (a) + CO2 (b) -&gt; CO2 (a) + CO2.o...</td>\n",
       "    </tr>\n",
       "  </tbody>\n",
       "</table>\n",
       "<p>71 rows × 2 columns</p>\n",
       "</div>"
      ],
      "text/plain": [
       "   Reaction ID                 Equations (Carbon atom transition)\n",
       "0           v1  Gluc.ext (abcdef) + PEP (ghi) -> G6P (abcdef) ...\n",
       "1           v2                      G6P (abcdef) <-> F6P (abcdef)\n",
       "2           v3                 F6P (abcdef) + ATP -> FBP (abcdef)\n",
       "3           v4            FBP (abcdef) <-> DHAP (cba) + GAP (def)\n",
       "4           v5                           DHAP (abc) <-> GAP (abc)\n",
       "..         ...                                                ...\n",
       "66         v67                                       O2.ext -> O2\n",
       "67         v68                                     NH3.ext -> NH3\n",
       "68         v69                                     SO4.ext -> SO4\n",
       "69         v70  0.488*Ala + 0.281*Arg + 0.229*Asn + 0.229*Asp ...\n",
       "70         v71  CO2.unlabeled (a) + CO2 (b) -> CO2 (a) + CO2.o...\n",
       "\n",
       "[71 rows x 2 columns]"
      ]
     },
     "execution_count": 166,
     "metadata": {},
     "output_type": "execute_result"
    }
   ],
   "source": [
    "reacts = pd.read_excel(\"example_input/Model.xlsx\")\n",
    "reacts"
   ]
  },
  {
   "cell_type": "code",
   "execution_count": 168,
   "id": "44b959d6-f37e-435e-a8d9-af38f193691b",
   "metadata": {},
   "outputs": [
    {
     "name": "stdout",
     "output_type": "stream",
     "text": [
      "<class 'pandera.errors.SchemaError'>\n",
      "column 'rxn_id' not in dataframe\n",
      "  Reaction ID                 Equations (Carbon atom transition)\n",
      "0          v1  Gluc.ext (abcdef) + PEP (ghi) -> G6P (abcdef) ...\n",
      "1          v2                      G6P (abcdef) <-> F6P (abcdef)\n",
      "2          v3                 F6P (abcdef) + ATP -> FBP (abcdef)\n",
      "3          v4            FBP (abcdef) <-> DHAP (cba) + GAP (def)\n",
      "4          v5                           DHAP (abc) <-> GAP (abc)\n"
     ]
    }
   ],
   "source": [
    "try:\n",
    "    incawrapper.ReactionsSchema.validate(reacts)\n",
    "except pa.errors.SchemaError as e:\n",
    "    print(type(e))\n",
    "    print(e)"
   ]
  },
  {
   "cell_type": "code",
   "execution_count": 169,
   "id": "c321a3d2-caca-4f0e-ac43-a5e2599bb321",
   "metadata": {},
   "outputs": [
    {
     "data": {
      "text/html": [
       "<div>\n",
       "<style scoped>\n",
       "    .dataframe tbody tr th:only-of-type {\n",
       "        vertical-align: middle;\n",
       "    }\n",
       "\n",
       "    .dataframe tbody tr th {\n",
       "        vertical-align: top;\n",
       "    }\n",
       "\n",
       "    .dataframe thead th {\n",
       "        text-align: right;\n",
       "    }\n",
       "</style>\n",
       "<table border=\"1\" class=\"dataframe\">\n",
       "  <thead>\n",
       "    <tr style=\"text-align: right;\">\n",
       "      <th></th>\n",
       "      <th>rxn_id</th>\n",
       "      <th>rxn_eqn</th>\n",
       "    </tr>\n",
       "  </thead>\n",
       "  <tbody>\n",
       "    <tr>\n",
       "      <th>0</th>\n",
       "      <td>v1</td>\n",
       "      <td>Gluc.ext (abcdef) + PEP (ghi) -&gt; G6P (abcdef) ...</td>\n",
       "    </tr>\n",
       "    <tr>\n",
       "      <th>1</th>\n",
       "      <td>v2</td>\n",
       "      <td>G6P (abcdef) &lt;-&gt; F6P (abcdef)</td>\n",
       "    </tr>\n",
       "    <tr>\n",
       "      <th>2</th>\n",
       "      <td>v3</td>\n",
       "      <td>F6P (abcdef) + ATP -&gt; FBP (abcdef)</td>\n",
       "    </tr>\n",
       "    <tr>\n",
       "      <th>3</th>\n",
       "      <td>v4</td>\n",
       "      <td>FBP (abcdef) &lt;-&gt; DHAP (cba) + GAP (def)</td>\n",
       "    </tr>\n",
       "    <tr>\n",
       "      <th>4</th>\n",
       "      <td>v5</td>\n",
       "      <td>DHAP (abc) &lt;-&gt; GAP (abc)</td>\n",
       "    </tr>\n",
       "    <tr>\n",
       "      <th>...</th>\n",
       "      <td>...</td>\n",
       "      <td>...</td>\n",
       "    </tr>\n",
       "    <tr>\n",
       "      <th>66</th>\n",
       "      <td>v67</td>\n",
       "      <td>O2.ext -&gt; O2</td>\n",
       "    </tr>\n",
       "    <tr>\n",
       "      <th>67</th>\n",
       "      <td>v68</td>\n",
       "      <td>NH3.ext -&gt; NH3</td>\n",
       "    </tr>\n",
       "    <tr>\n",
       "      <th>68</th>\n",
       "      <td>v69</td>\n",
       "      <td>SO4.ext -&gt; SO4</td>\n",
       "    </tr>\n",
       "    <tr>\n",
       "      <th>69</th>\n",
       "      <td>v70</td>\n",
       "      <td>0.488*Ala + 0.281*Arg + 0.229*Asn + 0.229*Asp ...</td>\n",
       "    </tr>\n",
       "    <tr>\n",
       "      <th>70</th>\n",
       "      <td>v71</td>\n",
       "      <td>CO2.unlabeled (a) + CO2 (b) -&gt; CO2 (a) + CO2.o...</td>\n",
       "    </tr>\n",
       "  </tbody>\n",
       "</table>\n",
       "<p>71 rows × 2 columns</p>\n",
       "</div>"
      ],
      "text/plain": [
       "   rxn_id                                            rxn_eqn\n",
       "0      v1  Gluc.ext (abcdef) + PEP (ghi) -> G6P (abcdef) ...\n",
       "1      v2                      G6P (abcdef) <-> F6P (abcdef)\n",
       "2      v3                 F6P (abcdef) + ATP -> FBP (abcdef)\n",
       "3      v4            FBP (abcdef) <-> DHAP (cba) + GAP (def)\n",
       "4      v5                           DHAP (abc) <-> GAP (abc)\n",
       "..    ...                                                ...\n",
       "66    v67                                       O2.ext -> O2\n",
       "67    v68                                     NH3.ext -> NH3\n",
       "68    v69                                     SO4.ext -> SO4\n",
       "69    v70  0.488*Ala + 0.281*Arg + 0.229*Asn + 0.229*Asp ...\n",
       "70    v71  CO2.unlabeled (a) + CO2 (b) -> CO2 (a) + CO2.o...\n",
       "\n",
       "[71 rows x 2 columns]"
      ]
     },
     "execution_count": 169,
     "metadata": {},
     "output_type": "execute_result"
    }
   ],
   "source": [
    "\n",
    "reacts_renamed = (reacts\n",
    "    .copy()\n",
    "    .rename(columns={\"Reaction ID\": \"rxn_id\", \"Equations (Carbon atom transition)\":\"rxn_eqn\"})\n",
    ")\n",
    "incawrapper.ReactionsSchema.validate(reacts_renamed)\n",
    "reacts_renamed"
   ]
  },
  {
   "cell_type": "code",
   "execution_count": 170,
   "id": "041a1af0-1529-4a5d-9ec4-c839b8423223",
   "metadata": {},
   "outputs": [
    {
     "name": "stdout",
     "output_type": "stream",
     "text": [
      "Merged 0 reactions\n"
     ]
    },
    {
     "data": {
      "text/html": [
       "<div>\n",
       "<style scoped>\n",
       "    .dataframe tbody tr th:only-of-type {\n",
       "        vertical-align: middle;\n",
       "    }\n",
       "\n",
       "    .dataframe tbody tr th {\n",
       "        vertical-align: top;\n",
       "    }\n",
       "\n",
       "    .dataframe thead th {\n",
       "        text-align: right;\n",
       "    }\n",
       "</style>\n",
       "<table border=\"1\" class=\"dataframe\">\n",
       "  <thead>\n",
       "    <tr style=\"text-align: right;\">\n",
       "      <th></th>\n",
       "      <th>rxn_id</th>\n",
       "      <th>rxn_eqn</th>\n",
       "    </tr>\n",
       "  </thead>\n",
       "  <tbody>\n",
       "    <tr>\n",
       "      <th>0</th>\n",
       "      <td>v1</td>\n",
       "      <td>Gluc.ext (abcdef) + PEP (ghi) -&gt; G6P (abcdef) ...</td>\n",
       "    </tr>\n",
       "    <tr>\n",
       "      <th>1</th>\n",
       "      <td>v2</td>\n",
       "      <td>G6P (abcdef) &lt;-&gt; F6P (abcdef)</td>\n",
       "    </tr>\n",
       "    <tr>\n",
       "      <th>2</th>\n",
       "      <td>v3</td>\n",
       "      <td>F6P (abcdef) + ATP -&gt; FBP (abcdef)</td>\n",
       "    </tr>\n",
       "    <tr>\n",
       "      <th>3</th>\n",
       "      <td>v4</td>\n",
       "      <td>FBP (abcdef) &lt;-&gt; DHAP (cba) + GAP (def)</td>\n",
       "    </tr>\n",
       "    <tr>\n",
       "      <th>4</th>\n",
       "      <td>v5</td>\n",
       "      <td>DHAP (abc) &lt;-&gt; GAP (abc)</td>\n",
       "    </tr>\n",
       "  </tbody>\n",
       "</table>\n",
       "</div>"
      ],
      "text/plain": [
       "  rxn_id                                            rxn_eqn\n",
       "0     v1  Gluc.ext (abcdef) + PEP (ghi) -> G6P (abcdef) ...\n",
       "1     v2                      G6P (abcdef) <-> F6P (abcdef)\n",
       "2     v3                 F6P (abcdef) + ATP -> FBP (abcdef)\n",
       "3     v4            FBP (abcdef) <-> DHAP (cba) + GAP (def)\n",
       "4     v5                           DHAP (abc) <-> GAP (abc)"
      ]
     },
     "execution_count": 170,
     "metadata": {},
     "output_type": "execute_result"
    }
   ],
   "source": [
    "reacts_merged = utils.merge_reaverible_reaction(reacts_renamed)\n",
    "reacts_merged.head()"
   ]
  },
  {
   "cell_type": "markdown",
   "id": "06543b33-f862-4181-ba45-9347b19fe35f",
   "metadata": {},
   "source": [
    "substrate_label_dict = {}\n",
    "substrate_id_dict = {}\n",
    "product_label_dict = {}\n",
    "production_id_dict = {}\n",
    "for r in reactions:\n",
    "    if isinstance(r[\"reduct\"], dict):\n",
    "        substrate_label_dict[r[\"@id\"]] = r[\"reduct\"][\"@cfg\"]\n",
    "        substrate_id_dict[r[\"@id\"]] = r[\"reduct\"][\"@id\"]\n",
    "    else:\n",
    "        tmp_substrates_label = []\n",
    "        tmp_substrates_id = []\n",
    "        for s in r[\"reduct\"]:\n",
    "            tmp_substrates_label.append(s[\"@cfg\"])\n",
    "            tmp_substrates_id.append(s[\"@id\"])\n",
    "        substrate_label_dict[r[\"@id\"]] = tmp_substrates_label\n",
    "        substrate_id_dict[r[\"@id\"]] = tmp_substrates_id\n",
    "    if (\"rproduct\" in r.keys()):\n",
    "        if isinstance(r[\"rproduct\"], dict):\n",
    "            product_label_dict[r[\"@id\"]] = r[\"rproduct\"][\"@cfg\"]\n",
    "            production_id_dict[r[\"@id\"]] = r[\"rproduct\"][\"@id\"]\n",
    "        else:\n",
    "            tmp_products_label = []\n",
    "            tmp_products_id = []\n",
    "            for s in r[\"rproduct\"]:\n",
    "                tmp_products_label.append(s[\"@cfg\"])\n",
    "                tmp_products_id.append(s[\"@id\"])\n",
    "            product_label_dict[r[\"@id\"]] = tmp_substrates_label\n",
    "            production_id_dict[r[\"@id\"]] = tmp_substrates_id\n",
    "    else:\n",
    "        continue\n",
    "\n",
    "rxns = substrate_label_dict.keys()"
   ]
  },
  {
   "cell_type": "code",
   "execution_count": 172,
   "id": "d61b8e51-e018-40be-a507-4f9b75c6cf19",
   "metadata": {},
   "outputs": [
    {
     "data": {
      "text/html": [
       "<div>\n",
       "<style scoped>\n",
       "    .dataframe tbody tr th:only-of-type {\n",
       "        vertical-align: middle;\n",
       "    }\n",
       "\n",
       "    .dataframe tbody tr th {\n",
       "        vertical-align: top;\n",
       "    }\n",
       "\n",
       "    .dataframe thead th {\n",
       "        text-align: right;\n",
       "    }\n",
       "</style>\n",
       "<table border=\"1\" class=\"dataframe\">\n",
       "  <thead>\n",
       "    <tr style=\"text-align: right;\">\n",
       "      <th></th>\n",
       "      <th>experiment_id</th>\n",
       "      <th>met_id</th>\n",
       "      <th>tracer_id</th>\n",
       "      <th>atom_ids</th>\n",
       "      <th>atom_mdv</th>\n",
       "      <th>enrichment</th>\n",
       "    </tr>\n",
       "  </thead>\n",
       "  <tbody>\n",
       "    <tr>\n",
       "      <th>0</th>\n",
       "      <td>glucose</td>\n",
       "      <td>Gluc.ext</td>\n",
       "      <td>D-[1,2-13C]glucose</td>\n",
       "      <td>[1, 2]</td>\n",
       "      <td>[0.01, 0.99]</td>\n",
       "      <td>1</td>\n",
       "    </tr>\n",
       "  </tbody>\n",
       "</table>\n",
       "</div>"
      ],
      "text/plain": [
       "  experiment_id    met_id           tracer_id atom_ids      atom_mdv  \\\n",
       "0       glucose  Gluc.ext  D-[1,2-13C]glucose   [1, 2]  [0.01, 0.99]   \n",
       "\n",
       "   enrichment  \n",
       "0           1  "
      ]
     },
     "execution_count": 172,
     "metadata": {},
     "output_type": "execute_result"
    }
   ],
   "source": [
    "tracer_info = pd.DataFrame.from_dict({\n",
    "    'experiment_id': [\n",
    "        'glucose'\n",
    "    ],\n",
    "    'met_id': ['Gluc.ext'],\n",
    "    'tracer_id': [\n",
    "        'D-[1,2-13C]glucose'\n",
    "    ],\n",
    "    'atom_ids': [\n",
    "        [1,2]\n",
    "    ],\n",
    "    'atom_mdv': [\n",
    "        [0.01,0.99]\n",
    "    ],\n",
    "    'enrichment': [\n",
    "        1\n",
    "    ]\n",
    "}, orient='columns')\n",
    "tracer_info.head()"
   ]
  },
  {
   "cell_type": "code",
   "execution_count": 173,
   "id": "fcf65c42-27a3-4b3d-b18b-47799ba9e030",
   "metadata": {},
   "outputs": [],
   "source": [
    "try:\n",
    "    incawrapper.TracerSchema.validate(tracer_info)\n",
    "except Exception as e:\n",
    "    print(e)"
   ]
  },
  {
   "cell_type": "code",
   "execution_count": 175,
   "id": "76edbe1a-63e0-4b95-bfa8-3ce31c3e3998",
   "metadata": {},
   "outputs": [
    {
     "data": {
      "text/html": [
       "<div>\n",
       "<style scoped>\n",
       "    .dataframe tbody tr th:only-of-type {\n",
       "        vertical-align: middle;\n",
       "    }\n",
       "\n",
       "    .dataframe tbody tr th {\n",
       "        vertical-align: top;\n",
       "    }\n",
       "\n",
       "    .dataframe thead th {\n",
       "        text-align: right;\n",
       "    }\n",
       "</style>\n",
       "<table border=\"1\" class=\"dataframe\">\n",
       "  <thead>\n",
       "    <tr style=\"text-align: right;\">\n",
       "      <th></th>\n",
       "      <th>experiment_id</th>\n",
       "      <th>met_id</th>\n",
       "      <th>tracer_id</th>\n",
       "      <th>atom_ids</th>\n",
       "      <th>atom_mdv</th>\n",
       "      <th>enrichment</th>\n",
       "    </tr>\n",
       "  </thead>\n",
       "  <tbody>\n",
       "    <tr>\n",
       "      <th>0</th>\n",
       "      <td>glucose</td>\n",
       "      <td>Gluc.ext</td>\n",
       "      <td>D-[1,2-13C]glucose</td>\n",
       "      <td>[1, 2]</td>\n",
       "      <td>[0.01, 0.99]</td>\n",
       "      <td>1.0</td>\n",
       "    </tr>\n",
       "  </tbody>\n",
       "</table>\n",
       "</div>"
      ],
      "text/plain": [
       "  experiment_id    met_id           tracer_id atom_ids      atom_mdv  \\\n",
       "0       glucose  Gluc.ext  D-[1,2-13C]glucose   [1, 2]  [0.01, 0.99]   \n",
       "\n",
       "   enrichment  \n",
       "0         1.0  "
      ]
     },
     "execution_count": 175,
     "metadata": {},
     "output_type": "execute_result"
    }
   ],
   "source": [
    "incawrapper.TracerSchema.validate(tracer_info)"
   ]
  },
  {
   "cell_type": "markdown",
   "id": "5355e7be-7e81-47dc-9207-c2196cd8bcac",
   "metadata": {
    "scrolled": true
   },
   "source": [
    "# Initialise experiments"
   ]
  },
  {
   "cell_type": "code",
   "execution_count": 198,
   "id": "d451604e-6765-48f5-aa50-2bbe0904a4f4",
   "metadata": {},
   "outputs": [],
   "source": [
    "measurements = pd.DataFrame()\n",
    "measurements.loc[0,\"mass_isotope\"] = 0\n",
    "measurements[\"intensity\"] =\t0.2\n",
    "measurements[\"intensity_std_error\"] = 0.02\n",
    "measurements[\"ms_id\"] = \"Gluc\"\n",
    "measurements[\"experiment_id\"] = \"glucose\"\n",
    "measurements[\"met_id\"] = \"G6P\"\n",
    "measurements[\"labelled_atom_ids\"] = [[1,2,3,4,5,6]]\n",
    "measurements[\"unlabelled_atoms\"] = \"\"\n",
    "measurements[\"replicate\"] = 0\n",
    "measurements['time'] = 0\n",
    "measurements['measurement_replicate'] = 1"
   ]
  },
  {
   "cell_type": "code",
   "execution_count": 199,
   "id": "6e2d2043-1f89-4392-9162-2360d69df891",
   "metadata": {},
   "outputs": [],
   "source": [
    "try:\n",
    "    incawrapper.MSMeasurementsSchema.validate(measurements)\n",
    "except Exception as e:\n",
    "    print(e)"
   ]
  },
  {
   "cell_type": "code",
   "execution_count": 201,
   "id": "1b209cd1-1302-4f4a-8cba-c0883ff919c3",
   "metadata": {},
   "outputs": [
    {
     "data": {
      "text/html": [
       "<div>\n",
       "<style scoped>\n",
       "    .dataframe tbody tr th:only-of-type {\n",
       "        vertical-align: middle;\n",
       "    }\n",
       "\n",
       "    .dataframe tbody tr th {\n",
       "        vertical-align: top;\n",
       "    }\n",
       "\n",
       "    .dataframe thead th {\n",
       "        text-align: right;\n",
       "    }\n",
       "</style>\n",
       "<table border=\"1\" class=\"dataframe\">\n",
       "  <thead>\n",
       "    <tr style=\"text-align: right;\">\n",
       "      <th></th>\n",
       "      <th>experiment_id</th>\n",
       "      <th>rxn_id</th>\n",
       "      <th>flux</th>\n",
       "      <th>flux_std_error</th>\n",
       "    </tr>\n",
       "  </thead>\n",
       "  <tbody>\n",
       "    <tr>\n",
       "      <th>0</th>\n",
       "      <td>glucose</td>\n",
       "      <td>v1</td>\n",
       "      <td>1</td>\n",
       "      <td>0.05</td>\n",
       "    </tr>\n",
       "  </tbody>\n",
       "</table>\n",
       "</div>"
      ],
      "text/plain": [
       "  experiment_id rxn_id  flux  flux_std_error\n",
       "0       glucose     v1     1            0.05"
      ]
     },
     "execution_count": 201,
     "metadata": {},
     "output_type": "execute_result"
    }
   ],
   "source": [
    "flux_measurements = pd.DataFrame.from_dict({\n",
    "    'experiment_id': ['glucose'],\n",
    "    'rxn_id': ['v1'],\n",
    "    'flux': [1],\n",
    "    'flux_std_error': [0.05],\n",
    "})\n",
    "flux_measurements"
   ]
  },
  {
   "cell_type": "code",
   "execution_count": 206,
   "id": "c8c31d9a-653a-446a-9d24-b00c81382142",
   "metadata": {},
   "outputs": [],
   "source": [
    "script = incawrapper.create_inca_script_from_data(\n",
    "    reactions_data=reacts_merged,\n",
    "    flux_measurements=flux_measurements,\n",
    "    tracer_data=tracer_info,\n",
    "    ms_measurements=measurements,\n",
    "    experiment_ids=['glucose']\n",
    ")\n",
    "script.add_to_block(\"options\", incawrapper.define_options(sim_na=False, sim_more=False, fit_starts=1))"
   ]
  },
  {
   "cell_type": "code",
   "execution_count": null,
   "id": "e42a2584-9e5e-487f-b39a-07cead69d13c",
   "metadata": {},
   "outputs": [],
   "source": [
    "OUTPUT_FILE = \"example_outputs/ecoli_example.mat\"\n",
    "script.add_to_block(\"runner\", incawrapper.define_runner(OUTPUT_FILE, run_estimate=True, run_simulation=True, run_continuation=False))"
   ]
  }
 ],
 "metadata": {
  "kernelspec": {
   "display_name": "incawrapper",
   "language": "python",
   "name": "incawrapper"
  },
  "language_info": {
   "codemirror_mode": {
    "name": "ipython",
    "version": 3
   },
   "file_extension": ".py",
   "mimetype": "text/x-python",
   "name": "python",
   "nbconvert_exporter": "python",
   "pygments_lexer": "ipython3",
   "version": "3.10.0"
  }
 },
 "nbformat": 4,
 "nbformat_minor": 5
}
