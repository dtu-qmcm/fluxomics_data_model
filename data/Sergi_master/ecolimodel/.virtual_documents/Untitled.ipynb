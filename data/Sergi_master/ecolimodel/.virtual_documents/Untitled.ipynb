import pandas as pd
import numpy as np
import dotenv
import ast
import pandera as pa
import incawrapper
import xmltodict
from incawrapper import utils
from incawrapper import visualization


# import environment variables
INCA_base_directory = "/Users/nicow/matlab_programs/inca2.2"


with open("example_input/ecoli.xml") as f:
    xml_input = xmltodict.parse(f.read())
reactions = xml_input["fluxml"]["reactionnetwork"]["reaction"]


reacts = pd.read_excel("example_input/Model_Altered.xlsx")
reacts


try:
    incawrapper.ReactionsSchema.validate(reacts)
except pa.errors.SchemaError as e:
    print(type(e))
    print(e)


reacts_renamed = (reacts
    .copy()
    .rename(columns={"Reaction ID": "rxn_id", "Equations (Carbon atom transition)":"rxn_eqn"})
)
incawrapper.ReactionsSchema.validate(reacts_renamed)
reacts_renamed


reacts_merged = utils.merge_reaverible_reaction(reacts_renamed)
reacts_merged.head(30)





tracer_info = pd.DataFrame.from_dict({
    'experiment_id': [
        'glucose'
    ],
    'met_id': ['Gluc.ext'],
    'tracer_id': [
        'D-[1,2-13C]glucose'
    ],
    'atom_ids': [
        [1,2]
    ],
    'atom_mdv': [
        [0.01,0.99]
    ],
    'enrichment': [
        1
    ]
}, orient='columns')
tracer_info.head()


try:
    incawrapper.TracerSchema.validate(tracer_info)
except Exception as e:
    print(e)


incawrapper.TracerSchema.validate(tracer_info)





measurements = pd.DataFrame()
measurements.loc[0,"mass_isotope"] = 0
measurements["intensity"] =	0.2
measurements["intensity_std_error"] = 0.02
measurements["ms_id"] = "Gluc"
measurements["experiment_id"] = "glucose"
measurements["met_id"] = "G6P"
measurements["labelled_atom_ids"] = [[1,2,3,4,5,6]]
measurements["unlabelled_atoms"] = ""
measurements["replicate"] = 0
measurements['time'] = 0
measurements['measurement_replicate'] = 1


try:
    incawrapper.MSMeasurementsSchema.validate(measurements)
except Exception as e:
    print(e)


flux_measurements = pd.DataFrame.from_dict({
    'experiment_id': ['glucose'],
    'rxn_id': ['v1'],
    'flux': [1],
    'flux_std_error': [0.05],
})
flux_measurements


script = incawrapper.create_inca_script_from_data(
    reactions_data=reacts_merged,
    flux_measurements=flux_measurements,
    tracer_data=tracer_info,
    ms_measurements=measurements,
    experiment_ids=['glucose']
)
script.add_to_block("options", incawrapper.define_options(sim_na=False, sim_more=False, fit_starts=1))


OUTPUT_FILE = "/Users/nicow/ecolimodel/example_outputs/ecoli_example.mat"
script.add_to_block("runner", incawrapper.define_runner(OUTPUT_FILE, run_estimate=True, run_simulation=True, run_continuation=False))
incawrapper.run_inca(script, INCA_base_directory)



